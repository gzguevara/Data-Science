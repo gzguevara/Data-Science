{
  "cells": [
    {
      "cell_type": "code",
      "execution_count": 2,
      "metadata": {
        "id": "k3UxuX_0amlN"
      },
      "outputs": [],
      "source": [
        "!pip install -Uqq fastbook\n",
        "import fastbook\n",
        "fastbook.setup_book()\n",
        "from fastbook import *\n",
        "from fastai.vision.widgets import *"
      ]
    },
    {
      "cell_type": "markdown",
      "metadata": {},
      "source": [
        "# Loading the data and training the neural network"
      ]
    },
    {
      "cell_type": "markdown",
      "metadata": {},
      "source": [
        "In this part of the notebook nothing really interesting happens. It is just calling some build-in functions"
      ]
    },
    {
      "cell_type": "markdown",
      "metadata": {},
      "source": [
        "Load the data "
      ]
    },
    {
      "cell_type": "code",
      "execution_count": 4,
      "metadata": {},
      "outputs": [],
      "source": [
        "path = untar_data(URLs.MNIST)\n",
        "Path.BASE_PATH = path"
      ]
    },
    {
      "cell_type": "markdown",
      "metadata": {},
      "source": [
        "Build data block for fast.ai to work with"
      ]
    },
    {
      "cell_type": "code",
      "execution_count": 6,
      "metadata": {},
      "outputs": [],
      "source": [
        "dls = ImageDataLoaders.from_folder(path, train = 'training', valid = 'testing') "
      ]
    },
    {
      "cell_type": "markdown",
      "metadata": {},
      "source": [
        "Train the neural network"
      ]
    },
    {
      "cell_type": "code",
      "execution_count": 8,
      "metadata": {},
      "outputs": [
        {
          "name": "stderr",
          "output_type": "stream",
          "text": [
            "/Library/Frameworks/Python.framework/Versions/3.9/lib/python3.9/site-packages/torch/nn/functional.py:718: UserWarning: Named tensors and all their associated APIs are an experimental feature and subject to change. Please do not use them for anything important until they are released as stable. (Triggered internally at  ../c10/core/TensorImpl.h:1156.)\n",
            "  return torch.max_pool2d(input, kernel_size, stride, padding, dilation, ceil_mode)\n"
          ]
        },
        {
          "data": {
            "text/html": [
              "<table border=\"1\" class=\"dataframe\">\n",
              "  <thead>\n",
              "    <tr style=\"text-align: left;\">\n",
              "      <th>epoch</th>\n",
              "      <th>train_loss</th>\n",
              "      <th>valid_loss</th>\n",
              "      <th>accuracy</th>\n",
              "      <th>time</th>\n",
              "    </tr>\n",
              "  </thead>\n",
              "  <tbody>\n",
              "    <tr>\n",
              "      <td>0</td>\n",
              "      <td>0.087064</td>\n",
              "      <td>0.667533</td>\n",
              "      <td>0.988000</td>\n",
              "      <td>11:33</td>\n",
              "    </tr>\n",
              "  </tbody>\n",
              "</table>"
            ],
            "text/plain": [
              "<IPython.core.display.HTML object>"
            ]
          },
          "metadata": {},
          "output_type": "display_data"
        },
        {
          "name": "stderr",
          "output_type": "stream",
          "text": [
            "[W ParallelNative.cpp:212] Warning: Cannot set number of intraop threads after parallel work has started or after set_num_threads call when using native parallel backend (function set_num_threads)\n",
            "[W ParallelNative.cpp:212] Warning: Cannot set number of intraop threads after parallel work has started or after set_num_threads call when using native parallel backend (function set_num_threads)\n",
            "[W ParallelNative.cpp:212] Warning: Cannot set number of intraop threads after parallel work has started or after set_num_threads call when using native parallel backend (function set_num_threads)\n",
            "[W ParallelNative.cpp:212] Warning: Cannot set number of intraop threads after parallel work has started or after set_num_threads call when using native parallel backend (function set_num_threads)\n",
            "[W ParallelNative.cpp:212] Warning: Cannot set number of intraop threads after parallel work has started or after set_num_threads call when using native parallel backend (function set_num_threads)\n",
            "[W ParallelNative.cpp:212] Warning: Cannot set number of intraop threads after parallel work has started or after set_num_threads call when using native parallel backend (function set_num_threads)\n",
            "[W ParallelNative.cpp:212] Warning: Cannot set number of intraop threads after parallel work has started or after set_num_threads call when using native parallel backend (function set_num_threads)\n",
            "[W ParallelNative.cpp:212] Warning: Cannot set number of intraop threads after parallel work has started or after set_num_threads call when using native parallel backend (function set_num_threads)\n",
            "[W ParallelNative.cpp:212] Warning: Cannot set number of intraop threads after parallel work has started or after set_num_threads call when using native parallel backend (function set_num_threads)\n",
            "[W ParallelNative.cpp:212] Warning: Cannot set number of intraop threads after parallel work has started or after set_num_threads call when using native parallel backend (function set_num_threads)\n",
            "[W ParallelNative.cpp:212] Warning: Cannot set number of intraop threads after parallel work has started or after set_num_threads call when using native parallel backend (function set_num_threads)\n",
            "[W ParallelNative.cpp:212] Warning: Cannot set number of intraop threads after parallel work has started or after set_num_threads call when using native parallel backend (function set_num_threads)\n",
            "[W ParallelNative.cpp:212] Warning: Cannot set number of intraop threads after parallel work has started or after set_num_threads call when using native parallel backend (function set_num_threads)\n",
            "[W ParallelNative.cpp:212] Warning: Cannot set number of intraop threads after parallel work has started or after set_num_threads call when using native parallel backend (function set_num_threads)\n",
            "[W ParallelNative.cpp:212] Warning: Cannot set number of intraop threads after parallel work has started or after set_num_threads call when using native parallel backend (function set_num_threads)\n",
            "[W ParallelNative.cpp:212] Warning: Cannot set number of intraop threads after parallel work has started or after set_num_threads call when using native parallel backend (function set_num_threads)\n",
            "[W ParallelNative.cpp:212] Warning: Cannot set number of intraop threads after parallel work has started or after set_num_threads call when using native parallel backend (function set_num_threads)\n"
          ]
        }
      ],
      "source": [
        "learn = cnn_learner(dls, resnet18, pretrained=False, loss_func=F.cross_entropy, metrics=accuracy)\n",
        "learn.fit_one_cycle(1, 0.1)"
      ]
    },
    {
      "cell_type": "markdown",
      "metadata": {},
      "source": [
        "Now we export the model"
      ]
    },
    {
      "cell_type": "code",
      "execution_count": 9,
      "metadata": {},
      "outputs": [],
      "source": [
        "learn.export(fname='export2.pkl', pickle_module=pickle, pickle_protocol=2)"
      ]
    },
    {
      "cell_type": "markdown",
      "metadata": {},
      "source": [
        "# Build the pipeline"
      ]
    },
    {
      "cell_type": "markdown",
      "metadata": {},
      "source": [
        "On the webpage we see a HTML-canvas where the user is able to write with his mouse. This HTML-canvas is transformed into a 'base64Field' which is basiclly a string representation of an image. This string gets decoded and with PIL.Image.open() it is transformed into an png image with python can read. \n",
        "\n",
        "This is the function which is my views.py file on the website. \n",
        "\n",
        "    def your_numbers(request):\n",
        "        \n",
        "        the_canvas       = request.POST.get('base64Field')\n",
        "        base64_data      = re.sub('^data:image/.+;base64,', '', the_canvas)\n",
        "        base64_data      = BytesIO(base64.b64decode(base64_data))\n",
        "        written_numbers  = execute(base64_data)\n",
        "        return render(request, 'your_numbers.html', {'written_numbers': written_numbers} )\n",
        "\n",
        "The last function execute is definded below.\n"
      ]
    },
    {
      "cell_type": "code",
      "execution_count": null,
      "metadata": {},
      "outputs": [],
      "source": [
        "from PIL import Image\n",
        "import torch\n",
        "import numpy\n",
        "from fastai import *\n",
        "from fastai.vision import *\n",
        "from fastai.vision.all import *"
      ]
    },
    {
      "cell_type": "markdown",
      "metadata": {},
      "source": [
        "execute() takes the png as input and return the numbers written. You can see that execute first transforms the image into tensor as fast.ai is based on that and it get the pixel position of the numbers in the png, as the user is able to write multiple numbers. This two functions are described below.\n",
        "\n",
        "execute() then loades the 'learner' (the neural network which we trained before) and uses it to predict the class of the numbers in the png."
      ]
    },
    {
      "cell_type": "code",
      "execution_count": null,
      "metadata": {},
      "outputs": [],
      "source": [
        "def execute(img):\n",
        "\n",
        "    img = Image.open(img).resize([100,28]).convert(\"P\")\n",
        "    to_predict = get_tensor(img, get_pixel_position_of_numbers(img))\n",
        "\n",
        "    \n",
        "    learn   = load_learner('/app/models_and_methods/methods/model/export2.pkl')\n",
        "    preds,_ = learn.get_preds(dl=[to_predict])\n",
        "    \n",
        "    results = []\n",
        "\n",
        "    for i in range(len(preds)):\n",
        "\n",
        "        results.append(list(preds[i]).index(max(list(list(preds[i])))))\n",
        "\n",
        "    return results"
      ]
    },
    {
      "cell_type": "markdown",
      "metadata": {},
      "source": [
        "This function resizes the incomming png into the same as the png's we used to train our neural network. \n",
        "\n",
        "Note the argument \"cut_here\" tells get_tensor() where the nubers are located on the png."
      ]
    },
    {
      "cell_type": "code",
      "execution_count": null,
      "metadata": {},
      "outputs": [],
      "source": [
        "def get_tensor(img, cut_here):\n",
        "\n",
        "    images = []\n",
        "    quantity = int((len(cut_here)-2)/2)\n",
        "\n",
        "    for i in range(quantity):\n",
        "        number    = img.crop((cut_here[i*2], 0, cut_here[3+i*2], 28)).resize([28,28])\n",
        "        images.append((torch.tensor([[250 if x == 1 else(x*5 if x > 1 else x) for x in this_list] for this_list in numpy.array(number)]).float()/255).repeat(1,3,1,1))\n",
        "\n",
        "    return (torch.cat((images[0:quantity]), axis=0), torch.tensor([1] * quantity))"
      ]
    },
    {
      "cell_type": "markdown",
      "metadata": {},
      "source": [
        "get_pixel_position_of_numbers() finds the position of the numbers on the png and it also find the amount of numbers whcih the user on the website has written. \n",
        "\n",
        "A png is basiccly a matrix with it's entries representing the inensity of a certain color of the png. In this case the intensity of black. therefore 0 = white and 256 = black. The algorithm checks every vertical line and checks whether the line is all white. if it is all white this means that there is nothing written. Next line. Next line. Next line... As soon as some line is not all 0 this means that there is something written. The column position gets saved. and from now of the algorithm look for the next time a line will be all white (0) again. This means that the number in the png ends there. \n",
        "\n",
        "In this fashion the alsorithm proceeds until the png ends."
      ]
    },
    {
      "cell_type": "code",
      "execution_count": null,
      "metadata": {},
      "outputs": [],
      "source": [
        "def get_pixel_position_of_numbers(img):\n",
        "    \n",
        "    pixels = list(numpy.array(img))\n",
        "    position_of_pixel = []\n",
        "    \n",
        "    for i in range(100):\n",
        "        \n",
        "        is_pixel = False\n",
        "        for j in range(28):\n",
        "            if pixels[j][i] != 0:\n",
        "                is_pixel = True\n",
        "                break\n",
        "        \n",
        "        if not is_pixel and len(position_of_pixel)% 2 != 0:\n",
        "            position_of_pixel.append(i)\n",
        "\n",
        "        elif is_pixel and len(position_of_pixel)% 2 == 0:\n",
        "            position_of_pixel.append(i)\n",
        "    \n",
        "    position_of_pixel.insert(0,0)\n",
        "    position_of_pixel.append(100)\n",
        "        \n",
        "    return position_of_pixel "
      ]
    }
  ],
  "metadata": {
    "colab": {
      "name": "01_intro.ipynb",
      "provenance": []
    },
    "interpreter": {
      "hash": "aee8b7b246df8f9039afb4144a1f6fd8d2ca17a180786b69acc140d282b71a49"
    },
    "jupytext": {
      "split_at_heading": true
    },
    "kernelspec": {
      "display_name": "Python 3.9.6 64-bit",
      "name": "python3"
    },
    "language_info": {
      "codemirror_mode": {
        "name": "ipython",
        "version": 3
      },
      "file_extension": ".py",
      "mimetype": "text/x-python",
      "name": "python",
      "nbconvert_exporter": "python",
      "pygments_lexer": "ipython3",
      "version": "3.9.6"
    }
  },
  "nbformat": 4,
  "nbformat_minor": 2
}
