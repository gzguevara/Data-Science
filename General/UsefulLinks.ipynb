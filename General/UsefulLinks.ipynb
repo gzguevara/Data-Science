{
 "cells": [
  {
   "cell_type": "markdown",
   "metadata": {},
   "source": [
    "Normal equation (only linar regression): </br>\n",
    "beta = (X'X)^-1 X'y\n",
    "\n",
    "loss function: </br>\n",
    "MSE = 1/m * sum((y_pred - y)^2), RMSE = sqrt(MSE)\n",
    "\n",
    "Gradient desent/optimization algorithm: </br>\n",
    "beta_new = beta - alpha* (delta RMSE(beta)/delta beta)\n",
    "\n",
    "There is also Stochastic Gradient Desent (SGD), Aden, RMSEpr\n",
    "\n",
    "Assumptions: </br>\n",
    "Linear relation between the dependent and independent variable\n",
    "No correlation between the dependet variables\n",
    "\n",
    "Logistic Regression - loss fuction (classification): </br>\n",
    "https://towardsdatascience.com/optimization-loss-function-under-the-hood-part-ii-d20a239cde11\n",
    "\n",
    "Regularization/L1&L2: </br>\n",
    "https://towardsdatascience.com/regularization-in-machine-learning-76441ddcf99a\n",
    "https://towardsdatascience.com/l1-and-l2-regularization-methods-ce25e7fc831c\n",
    "\n",
    "SVM (classification): </br>\n",
    "https://towardsdatascience.com/support-vector-machine-introduction-to-machine-learning-algorithms-934a444fca47\n",
    "\n",
    "Kernel trick for SVM in non-linear data: </br>\n",
    "https://towardsdatascience.com/the-kernel-trick-c98cdbcaeb3f\n",
    "\n",
    "RFC:</br>\n",
    "OOB - https://www.analyticsvidhya.com/blog/2020/12/out-of-bag-oob-score-in-the-random-forest-algorithm/\n",
    "\n",
    "Adaptive Boosting:\n",
    "https://www.youtube.com/watch?v=LsK-xG1cLYA\n",
    "\n",
    "SVR: </br>\n",
    "https://towardsdatascience.com/an-introduction-to-support-vector-regression-svr-a3ebc1672c2\n",
    "\n",
    "Missing Data: </br>\n",
    "https://towardsdatascience.com/7-ways-to-handle-missing-values-in-machine-learning-1a6326adf79e\n",
    "\n",
    "Comparation of Classifiers: </br>\n",
    "https://scikit-learn.org/stable/auto_examples/classification/plot_classifier_comparison.html\n",
    "\n",
    "Inbalanced datasets: </br>\n",
    "https://medium.com/strands-tech-corner/unbalanced-datasets-what-to-do-144e0552d9cd\n",
    "\n",
    "Dimensionallity Reduction for dummies:</br>\n",
    "https://towardsdatascience.com/https-medium-com-abdullatif-h-dimensionality-reduction-for-dummies-part-1-a8c9ec7b7e79"
   ]
  },
  {
   "cell_type": "markdown",
   "metadata": {},
   "source": []
  }
 ],
 "metadata": {
  "language_info": {
   "name": "python"
  },
  "orig_nbformat": 4
 },
 "nbformat": 4,
 "nbformat_minor": 2
}
